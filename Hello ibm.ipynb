{
 "cells": [
  {
   "cell_type": "markdown",
   "id": "4a9bde4c-c694-48c8-a296-98e3e918a1a2",
   "metadata": {},
   "source": [
    "<h1>My Jupyter Notebook on IBM Watson Studio<h1>"
   ]
  },
  {
   "cell_type": "markdown",
   "id": "f357f69a-c033-4e69-8eec-8e7f343c82e4",
   "metadata": {},
   "source": [
    "**Monisha D**<br>\n",
    "B.E Graduate"
   ]
  },
  {
   "cell_type": "markdown",
   "id": "7df3841e-77f9-478c-b2c5-18102384c7cb",
   "metadata": {},
   "source": [
    "*I am interested in data science because it is mainly fun to play with data and utilise it for the good. And also it has a great future.*"
   ]
  },
  {
   "cell_type": "markdown",
   "id": "374b814e-f587-4515-92b2-1535b2c112ed",
   "metadata": {},
   "source": [
    "<h3>Cell 5 will print \"Hello IBM\"<h3>"
   ]
  },
  {
   "cell_type": "code",
   "execution_count": 4,
   "id": "ce28d4e1-9e62-44e8-934e-bed43aeff7cc",
   "metadata": {},
   "outputs": [
    {
     "name": "stdout",
     "output_type": "stream",
     "text": [
      "Hello IBM\n"
     ]
    }
   ],
   "source": [
    "print(\"Hello IBM\")"
   ]
  },
  {
   "cell_type": "markdown",
   "id": "f4b10537-7b12-43d1-b848-62aea6209c3b",
   "metadata": {},
   "source": [
    "*****\n",
    "**Data Scientists have to be:**<br>\n",
    "* Curious\n",
    "* Great story tellers\n",
    "* Argumentative\n",
    "\n",
    "\n",
    ">Data Science is declared as the sexiest job in 21st century\n",
    "\n",
    "Name |Class|Grade\n",
    "-----|-----|----- \n",
    "Rose |5th  |A+\n",
    "Nalin|5th  |B\n",
    "Ashik|5th  |A\n"
   ]
  },
  {
   "cell_type": "code",
   "execution_count": null,
   "id": "f4ae6651-3103-4273-b5ed-570b62ed5988",
   "metadata": {},
   "outputs": [],
   "source": []
  }
 ],
 "metadata": {
  "kernelspec": {
   "display_name": "Python",
   "language": "python",
   "name": "conda-env-python-py"
  },
  "language_info": {
   "codemirror_mode": {
    "name": "ipython",
    "version": 3
   },
   "file_extension": ".py",
   "mimetype": "text/x-python",
   "name": "python",
   "nbconvert_exporter": "python",
   "pygments_lexer": "ipython3",
   "version": "3.7.12"
  }
 },
 "nbformat": 4,
 "nbformat_minor": 5
}
